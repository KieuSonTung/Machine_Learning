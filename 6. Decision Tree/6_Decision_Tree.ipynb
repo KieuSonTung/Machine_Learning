{
  "nbformat": 4,
  "nbformat_minor": 0,
  "metadata": {
    "colab": {
      "name": "6. Decision Tree.ipynb",
      "provenance": [],
      "collapsed_sections": [],
      "include_colab_link": true
    },
    "kernelspec": {
      "name": "python3",
      "display_name": "Python 3"
    },
    "language_info": {
      "name": "python"
    }
  },
  "cells": [
    {
      "cell_type": "markdown",
      "metadata": {
        "id": "view-in-github",
        "colab_type": "text"
      },
      "source": [
        "<a href=\"https://colab.research.google.com/github/KieuSonTung/Machine_Learning/blob/main/6.%20Decision%20Tree/6_Decision_Tree.ipynb\" target=\"_parent\"><img src=\"https://colab.research.google.com/assets/colab-badge.svg\" alt=\"Open In Colab\"/></a>"
      ]
    },
    {
      "cell_type": "code",
      "metadata": {
        "id": "LUQtcXSp-h7H"
      },
      "source": [
        "import numpy as np\n",
        "import pandas as pd\n",
        "import matplotlib.pyplot as plt"
      ],
      "execution_count": 2,
      "outputs": []
    },
    {
      "cell_type": "code",
      "metadata": {
        "id": "x8eGBhkR-skd"
      },
      "source": [
        "X = np.array([[1, 3], [2, 2], [3, 2], [4, 1], [4, 2], \n",
        "              [2, 6], [4, 6], [3, 7], [2, 8], [1, 9],\n",
        "              [8, 6], [9, 7], [7, 9], [10, 6], [8, 9],\n",
        "              [8, 4], [9, 1], [10, 3], [8, 3], [9, 3]])\n",
        "y = np.ones(20)\n",
        "y[:5] = 0"
      ],
      "execution_count": 3,
      "outputs": []
    },
    {
      "cell_type": "code",
      "metadata": {
        "colab": {
          "base_uri": "https://localhost:8080/"
        },
        "id": "8HjfuhnE-1PQ",
        "outputId": "fdd6f603-d50d-4d84-fd35-8ebd7c0d5aab"
      },
      "source": [
        "indx = np.where(X[:, 0] <= 5)\n",
        "y[indx].shape"
      ],
      "execution_count": 4,
      "outputs": [
        {
          "output_type": "execute_result",
          "data": {
            "text/plain": [
              "(10,)"
            ]
          },
          "metadata": {},
          "execution_count": 4
        }
      ]
    },
    {
      "cell_type": "code",
      "metadata": {
        "colab": {
          "base_uri": "https://localhost:8080/",
          "height": 282
        },
        "id": "PqjsQNgJ_er5",
        "outputId": "c44d6271-2d75-4459-fc16-ad4a5208a0e2"
      },
      "source": [
        "plt.scatter(X[:, 0], X[:, 1], c=y)"
      ],
      "execution_count": 5,
      "outputs": [
        {
          "output_type": "execute_result",
          "data": {
            "text/plain": [
              "<matplotlib.collections.PathCollection at 0x7f6441f4e7d0>"
            ]
          },
          "metadata": {},
          "execution_count": 5
        },
        {
          "output_type": "display_data",
          "data": {
            "image/png": "[encoded data removed]",
            "text/plain": [
              "<Figure size 432x288 with 1 Axes>"
            ]
          },
          "metadata": {
            "needs_background": "light"
          }
        }
      ]
    },
    {
      "cell_type": "code",
      "metadata": {
        "id": "NkDW86Q7_lAF"
      },
      "source": [
        "# search x1, x2 in range (0, 10) to find max gini index"
      ],
      "execution_count": 6,
      "outputs": []
    },
    {
      "cell_type": "code",
      "metadata": {
        "id": "MKzdfE0tJPNT"
      },
      "source": [
        "def calculate_gini(n1, n2):\n",
        "    if n1+n2 == 0: \n",
        "        return 1\n",
        "    else: \n",
        "        return 1 - (n1/(n1+n2))**2 - (n2/(n1+n2))**2"
      ],
      "execution_count": 7,
      "outputs": []
    },
    {
      "cell_type": "code",
      "metadata": {
        "colab": {
          "base_uri": "https://localhost:8080/"
        },
        "id": "6riujZ1OKXzT",
        "outputId": "9dad5a79-567d-4ccd-ae4f-0a4d2a105d16"
      },
      "source": [
        "calculate_gini(5, 15)"
      ],
      "execution_count": 8,
      "outputs": [
        {
          "output_type": "execute_result",
          "data": {
            "text/plain": [
              "0.375"
            ]
          },
          "metadata": {},
          "execution_count": 8
        }
      ]
    },
    {
      "cell_type": "code",
      "metadata": {
        "id": "GjPwOee2KZpi",
        "colab": {
          "base_uri": "https://localhost:8080/"
        },
        "outputId": "c65832e7-daaf-4d82-c928-27ed5eccdaf4"
      },
      "source": [
        "# X1\n",
        "\n",
        "g1 = calculate_gini(y.shape[0] - np.sum(y), np.sum(y))\n",
        "G = {}\n",
        "listOfKeys = []\n",
        "\n",
        "for i in np.arange(0, 10, 0.5):\n",
        "\n",
        "    # xét ngưỡng x <= i\n",
        "    indx_below = np.where(X[:,0] <= i)\n",
        "    y_below = y[indx_below]\n",
        "    g2 = calculate_gini(y_below.shape[0] - sum(y_below), sum(y_below))\n",
        "\n",
        "    # x > i\n",
        "    indx_above = np.where(X[:,0] > i)\n",
        "    y_above = y[indx_above]\n",
        "    g3 = calculate_gini(y_above.shape[0] - sum(y_above), sum(y_above))\n",
        "\n",
        "    gini_index = g1 - g2 * y_below.shape[0] / y.shape[0] - g3 * y_above.shape[0] / y.shape[0]\n",
        "    \n",
        "    G[i] = gini_index\n",
        "\n",
        "\n",
        "gini_index_max = max(G.items(), key=lambda x: x[1])\n",
        "for key, value in G.items():\n",
        "    if value == gini_index_max[1]:\n",
        "        listOfKeys.append(key)\n",
        "\n",
        "listOfKeys"
      ],
      "execution_count": 9,
      "outputs": [
        {
          "output_type": "execute_result",
          "data": {
            "text/plain": [
              "[4.0, 4.5, 5.0, 5.5, 6.0, 6.5]"
            ]
          },
          "metadata": {},
          "execution_count": 9
        }
      ]
    },
    {
      "cell_type": "code",
      "metadata": {
        "colab": {
          "base_uri": "https://localhost:8080/"
        },
        "id": "mE_vi35GKAZA",
        "outputId": "0a2e4b9d-538b-41b0-c326-d475cae831bd"
      },
      "source": [
        "g1 = calculate_gini(y.shape[0] - np.sum(y), np.sum(y))\n",
        "G = {}\n",
        "listOfKeys = []\n",
        "\n",
        "for i in np.arange(0, 10, 0.5):\n",
        "\n",
        "    # xét ngưỡng x <= i\n",
        "    indx_below = np.where(X[:,1] <= i)\n",
        "    y_below = y[indx_below]\n",
        "    g2 = calculate_gini(y_below.shape[0] - sum(y_below), sum(y_below))\n",
        "\n",
        "    # x > i\n",
        "    indx_above = np.where(X[:,1] > i)\n",
        "    y_above = y[indx_above]\n",
        "    g3 = calculate_gini(y_above.shape[0] - sum(y_above), sum(y_above))\n",
        "\n",
        "    gini_index = g1 - g2 * y_below.shape[0] / y.shape[0] - g3 * y_above.shape[0] / y.shape[0]\n",
        "    \n",
        "    G[i] = gini_index\n",
        "\n",
        "\n",
        "gini_index_max = max(G.items(), key=lambda x: x[1])\n",
        "for key, value in G.items():\n",
        "    if value == gini_index_max[1]:\n",
        "        listOfKeys.append(key)\n",
        "\n",
        "listOfKeys\n",
        "# print(G)"
      ],
      "execution_count": 10,
      "outputs": [
        {
          "output_type": "execute_result",
          "data": {
            "text/plain": [
              "[2.0, 2.5]"
            ]
          },
          "metadata": {},
          "execution_count": 10
        }
      ]
    },
    {
      "cell_type": "code",
      "metadata": {
        "id": "WtAgYGv-NoCP",
        "colab": {
          "base_uri": "https://localhost:8080/",
          "height": 206
        },
        "outputId": "a1b2ecde-b877-4d8e-97dc-db338afb2ab3"
      },
      "source": [
        "salary = pd.read_csv('https://raw.githubusercontent.com/nttuan8/DL_Tutorial/master/L2/dataset.csv')\n",
        "salary.head()"
      ],
      "execution_count": 11,
      "outputs": [
        {
          "output_type": "execute_result",
          "data": {
            "text/html": [
              "<div>\n",
              "<style scoped>\n",
              "    .dataframe tbody tr th:only-of-type {\n",
              "        vertical-align: middle;\n",
              "    }\n",
              "\n",
              "    .dataframe tbody tr th {\n",
              "        vertical-align: top;\n",
              "    }\n",
              "\n",
              "    .dataframe thead th {\n",
              "        text-align: right;\n",
              "    }\n",
              "</style>\n",
              "<table border=\"1\" class=\"dataframe\">\n",
              "  <thead>\n",
              "    <tr style=\"text-align: right;\">\n",
              "      <th></th>\n",
              "      <th>Lương</th>\n",
              "      <th>Thời gian làm việc</th>\n",
              "      <th>Cho vay</th>\n",
              "    </tr>\n",
              "  </thead>\n",
              "  <tbody>\n",
              "    <tr>\n",
              "      <th>0</th>\n",
              "      <td>10</td>\n",
              "      <td>1.0</td>\n",
              "      <td>1</td>\n",
              "    </tr>\n",
              "    <tr>\n",
              "      <th>1</th>\n",
              "      <td>5</td>\n",
              "      <td>2.0</td>\n",
              "      <td>1</td>\n",
              "    </tr>\n",
              "    <tr>\n",
              "      <th>2</th>\n",
              "      <td>6</td>\n",
              "      <td>1.8</td>\n",
              "      <td>1</td>\n",
              "    </tr>\n",
              "    <tr>\n",
              "      <th>3</th>\n",
              "      <td>7</td>\n",
              "      <td>1.0</td>\n",
              "      <td>1</td>\n",
              "    </tr>\n",
              "    <tr>\n",
              "      <th>4</th>\n",
              "      <td>8</td>\n",
              "      <td>2.0</td>\n",
              "      <td>1</td>\n",
              "    </tr>\n",
              "  </tbody>\n",
              "</table>\n",
              "</div>"
            ],
            "text/plain": [
              "   Lương  Thời gian làm việc  Cho vay\n",
              "0     10                 1.0        1\n",
              "1      5                 2.0        1\n",
              "2      6                 1.8        1\n",
              "3      7                 1.0        1\n",
              "4      8                 2.0        1"
            ]
          },
          "metadata": {},
          "execution_count": 11
        }
      ]
    },
    {
      "cell_type": "code",
      "metadata": {
        "colab": {
          "base_uri": "https://localhost:8080/"
        },
        "id": "ZBwXAGBd8RB_",
        "outputId": "1ffdec96-5888-4fff-c865-e82b9c396395"
      },
      "source": [
        "salary.shape"
      ],
      "execution_count": 12,
      "outputs": [
        {
          "output_type": "execute_result",
          "data": {
            "text/plain": [
              "(20, 3)"
            ]
          },
          "metadata": {},
          "execution_count": 12
        }
      ]
    },
    {
      "cell_type": "code",
      "metadata": {
        "colab": {
          "base_uri": "https://localhost:8080/",
          "height": 206
        },
        "id": "bEYqGP_h_7pU",
        "outputId": "f1c66336-f4d6-4ead-fe2a-5f89f0864612"
      },
      "source": [
        "salary = salary.rename(columns={'Lương': 'x1', 'Thời gian làm việc': 'x2', 'Cho vay': 'y'})\n",
        "salary.head()"
      ],
      "execution_count": 13,
      "outputs": [
        {
          "output_type": "execute_result",
          "data": {
            "text/html": [
              "<div>\n",
              "<style scoped>\n",
              "    .dataframe tbody tr th:only-of-type {\n",
              "        vertical-align: middle;\n",
              "    }\n",
              "\n",
              "    .dataframe tbody tr th {\n",
              "        vertical-align: top;\n",
              "    }\n",
              "\n",
              "    .dataframe thead th {\n",
              "        text-align: right;\n",
              "    }\n",
              "</style>\n",
              "<table border=\"1\" class=\"dataframe\">\n",
              "  <thead>\n",
              "    <tr style=\"text-align: right;\">\n",
              "      <th></th>\n",
              "      <th>x1</th>\n",
              "      <th>x2</th>\n",
              "      <th>y</th>\n",
              "    </tr>\n",
              "  </thead>\n",
              "  <tbody>\n",
              "    <tr>\n",
              "      <th>0</th>\n",
              "      <td>10</td>\n",
              "      <td>1.0</td>\n",
              "      <td>1</td>\n",
              "    </tr>\n",
              "    <tr>\n",
              "      <th>1</th>\n",
              "      <td>5</td>\n",
              "      <td>2.0</td>\n",
              "      <td>1</td>\n",
              "    </tr>\n",
              "    <tr>\n",
              "      <th>2</th>\n",
              "      <td>6</td>\n",
              "      <td>1.8</td>\n",
              "      <td>1</td>\n",
              "    </tr>\n",
              "    <tr>\n",
              "      <th>3</th>\n",
              "      <td>7</td>\n",
              "      <td>1.0</td>\n",
              "      <td>1</td>\n",
              "    </tr>\n",
              "    <tr>\n",
              "      <th>4</th>\n",
              "      <td>8</td>\n",
              "      <td>2.0</td>\n",
              "      <td>1</td>\n",
              "    </tr>\n",
              "  </tbody>\n",
              "</table>\n",
              "</div>"
            ],
            "text/plain": [
              "   x1   x2  y\n",
              "0  10  1.0  1\n",
              "1   5  2.0  1\n",
              "2   6  1.8  1\n",
              "3   7  1.0  1\n",
              "4   8  2.0  1"
            ]
          },
          "metadata": {},
          "execution_count": 13
        }
      ]
    },
    {
      "cell_type": "code",
      "metadata": {
        "colab": {
          "base_uri": "https://localhost:8080/",
          "height": 282
        },
        "id": "-E_9RlPjAPew",
        "outputId": "50cdea6a-aaf5-4d12-c7e9-c089483694e1"
      },
      "source": [
        "x1 = np.array(salary['x1'])\n",
        "x2 = np.array(salary['x2'])\n",
        "y = np.array(salary['y'])\n",
        "\n",
        "plt.scatter(x1, x2, c=y)\n"
      ],
      "execution_count": 14,
      "outputs": [
        {
          "output_type": "execute_result",
          "data": {
            "text/plain": [
              "<matplotlib.collections.PathCollection at 0x7f6441f2d910>"
            ]
          },
          "metadata": {},
          "execution_count": 14
        },
        {
          "output_type": "display_data",
          "data": {
            "image/png": "[encoded data removed]",
            "text/plain": [
              "<Figure size 432x288 with 1 Axes>"
            ]
          },
          "metadata": {
            "needs_background": "light"
          }
        }
      ]
    },
    {
      "cell_type": "code",
      "metadata": {
        "colab": {
          "base_uri": "https://localhost:8080/"
        },
        "id": "3XTu4D_KLeij",
        "outputId": "1ee3c85f-6276-4484-a985-e2c4bd69770c"
      },
      "source": [
        "# X1\n",
        "\n",
        "g1 = calculate_gini(y.shape[0] - np.sum(y), np.sum(y))\n",
        "G = {}\n",
        "listOfKeys = []\n",
        "\n",
        "for i in np.arange(0.0, 10, 0.5):\n",
        "\n",
        "    # xét ngưỡng x <= i\n",
        "    indx_below = np.where(x1 <= i)\n",
        "    y_below = y[indx_below]\n",
        "    g2 = calculate_gini(y_below.shape[0] - sum(y_below), sum(y_below))\n",
        "\n",
        "    # x > i\n",
        "    indx_above = np.where(x1 > i)\n",
        "    y_above = y[indx_above]\n",
        "    g3 = calculate_gini(y_above.shape[0] - sum(y_above), sum(y_above))\n",
        "\n",
        "    gini_index = g1 - g2 * y_below.shape[0] / y.shape[0] - g3 * y_above.shape[0] / y.shape[0]\n",
        "    \n",
        "    G[i] = gini_index\n",
        "\n",
        "\n",
        "gini_index_max = max(G.items(), key=lambda x: x[1])\n",
        "for key, value in G.items():\n",
        "    if value == gini_index_max[1]:\n",
        "        listOfKeys.append(key)\n",
        "\n",
        "listOfKeys"
      ],
      "execution_count": 15,
      "outputs": [
        {
          "output_type": "execute_result",
          "data": {
            "text/plain": [
              "[8.0, 8.5]"
            ]
          },
          "metadata": {},
          "execution_count": 15
        }
      ]
    },
    {
      "cell_type": "code",
      "metadata": {
        "colab": {
          "base_uri": "https://localhost:8080/"
        },
        "id": "E9cfnhorL4Ia",
        "outputId": "c9bfc3e7-d47c-4ce5-9ae1-2a1831ac6b67"
      },
      "source": [
        "# X2\n",
        "\n",
        "g1 = calculate_gini(y.shape[0] - np.sum(y), np.sum(y))\n",
        "G = {}\n",
        "listOfKeys = []\n",
        "\n",
        "for i in np.arange(0.0, 10, 0.25):\n",
        "\n",
        "    # xét ngưỡng x <= i\n",
        "    indx_below = np.where(x2 <= i)\n",
        "    y_below = y[indx_below]\n",
        "    g2 = calculate_gini(y_below.shape[0] - sum(y_below), sum(y_below))\n",
        "\n",
        "    # x > i\n",
        "    indx_above = np.where(x2 > i)\n",
        "    y_above = y[indx_above]\n",
        "    g3 = calculate_gini(y_above.shape[0] - sum(y_above), sum(y_above))\n",
        "\n",
        "    gini_index = g1 - g2 * y_below.shape[0] / y.shape[0] - g3 * y_above.shape[0] / y.shape[0]\n",
        "    \n",
        "    G[i] = gini_index\n",
        "\n",
        "\n",
        "gini_index_max = max(G.items(), key=lambda x: x[1])\n",
        "for key, value in G.items():\n",
        "    if value == gini_index_max[1]:\n",
        "        listOfKeys.append(key)\n",
        "\n",
        "listOfKeys"
      ],
      "execution_count": 16,
      "outputs": [
        {
          "output_type": "execute_result",
          "data": {
            "text/plain": [
              "[1.0, 1.25, 1.5, 1.75]"
            ]
          },
          "metadata": {},
          "execution_count": 16
        }
      ]
    },
    {
      "cell_type": "code",
      "metadata": {
        "colab": {
          "base_uri": "https://localhost:8080/",
          "height": 282
        },
        "id": "lpAIVbQQPSmp",
        "outputId": "0e7148f2-87f7-4265-b05c-d75e58240d12"
      },
      "source": [
        "plt.scatter(x1, x2, c=y)\n",
        "plt.plot([8.5, 8.5], [0, 1.25])\n",
        "plt.plot([0, 8.5], [1.25, 1.25])"
      ],
      "execution_count": 19,
      "outputs": [
        {
          "output_type": "execute_result",
          "data": {
            "text/plain": [
              "[<matplotlib.lines.Line2D at 0x7f643ceb8110>]"
            ]
          },
          "metadata": {},
          "execution_count": 19
        },
        {
          "output_type": "display_data",
          "data": {
            "image/png": "[encoded data removed]",
            "text/plain": [
              "<Figure size 432x288 with 1 Axes>"
            ]
          },
          "metadata": {
            "needs_background": "light"
          }
        }
      ]
    }
  ]
}